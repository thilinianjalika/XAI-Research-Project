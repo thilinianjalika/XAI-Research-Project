{
    "cells": [
        {
            "cell_type": "code",
            "execution_count": 1,
            "metadata": {},
            "outputs": [],
            "source": [
                "from src.datasets import IMDBDataset\n",
                "from src.models import RFModel, SVCModel, KNNModel, LRModel\n",
                "import numpy as np"
            ]
        },
        {
            "cell_type": "code",
            "execution_count": 2,
            "metadata": {},
            "outputs": [
                {
                    "name": "stderr",
                    "output_type": "stream",
                    "text": [
                        "/home/avishka/Personal/Projects/xai/src/datasets.py:25: MarkupResemblesLocatorWarning: The input looks more like a filename than markup. You may want to open this file and pass the filehandle into Beautiful Soup.\n",
                        "  soup = BeautifulSoup(text, \"html.parser\")\n"
                    ]
                }
            ],
            "source": [
                "ds_config_path = \"./datasets/imdb/dataset.yaml\"\n",
                "ds = IMDBDataset(ds_config_path)"
            ]
        },
        {
            "cell_type": "code",
            "execution_count": 3,
            "metadata": {},
            "outputs": [],
            "source": [
                "# Number of trees in random forest\n",
                "n_estimators = np.linspace(start = 10, stop = 100, num = 10).astype(int).tolist()\n",
                "# Maximum number of levels in tree\n",
                "max_depth = np.linspace(10, 100, num = 5).astype(int).tolist()\n",
                "max_depth.append(None)\n",
                "# Minimum number of samples required to split a node\n",
                "min_samples_split = [2, 5, 10]\n",
                "# Minimum number of samples required at each leaf node\n",
                "min_samples_leaf = [1, 2, 4]\n",
                "# Method of selecting samples for training each tree\n",
                "bootstrap = [True, False]\n",
                "rf_model = RFModel(n_estimators, max_depth, min_samples_split, min_samples_leaf, bootstrap)"
            ]
        },
        {
            "cell_type": "code",
            "execution_count": 2,
            "metadata": {},
            "outputs": [],
            "source": [
                "C = [0.1, 1, 10, 100]\n",
                "gamma = [1, 0.1, 0.01, 0.001]\n",
                "kernel = [\"rbf\"]\n",
                "svc_model = SVCModel(C, gamma, kernel)"
            ]
        },
        {
            "cell_type": "code",
            "execution_count": 2,
            "metadata": {},
            "outputs": [],
            "source": [
                "n_neighbors = [30, 40, 50, 60, 70, 80, 90]\n",
                "metric = [\"manhattan\", \"minkowski\"]\n",
                "weights = [\"uniform\", \"distance\"]\n",
                "knn_model = KNNModel(n_neighbors, metric, weights)"
            ]
        },
        {
            "cell_type": "code",
            "execution_count": 2,
            "metadata": {},
            "outputs": [],
            "source": [
                "penalty = [\"l1\", \"l2\", \"elasticnet\"]\n",
                "C = np.logspace(-4, 4, 20)\n",
                "solver = [\"lbfgs\", \"newton-cg\", \"sag\"]\n",
                "max_iter = [100, 1000, 5000]\n",
                "lr_model = LRModel(penalty, C, solver, max_iter)"
            ]
        },
        {
            "cell_type": "code",
            "execution_count": null,
            "metadata": {},
            "outputs": [],
            "source": []
        }
    ],
    "metadata": {
        "kernelspec": {
            "display_name": "xai-env",
            "language": "python",
            "name": "python3"
        },
        "language_info": {
            "codemirror_mode": {
                "name": "ipython",
                "version": 3
            },
            "file_extension": ".py",
            "mimetype": "text/x-python",
            "name": "python",
            "nbconvert_exporter": "python",
            "pygments_lexer": "ipython3",
            "version": "3.10.11"
        },
        "orig_nbformat": 4
    },
    "nbformat": 4,
    "nbformat_minor": 2
}
