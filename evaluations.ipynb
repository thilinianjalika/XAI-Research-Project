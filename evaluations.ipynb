{
 "cells": [
  {
   "cell_type": "code",
   "execution_count": null,
   "metadata": {},
   "outputs": [],
   "source": [
    "from src.test_bench import TestBench\n",
    "from src.datasets import IMDBDataset\n",
    "\n",
    "ds = IMDBDataset(config_path=\"./configs/datasets/imdb.yaml\", root=\"datasets/imdb\")\n",
    "x, y = ds.x_test, ds.y_test"
   ]
  },
  {
   "cell_type": "code",
   "execution_count": null,
   "metadata": {},
   "outputs": [],
   "source": [
    "tb = TestBench(\n",
    "    model_path=\"./models/analysis-models/knn.pkl\",\n",
    "    vectorizer_path=\"./models/analysis-models/tfidf.pkl\",\n",
    "    cf_generator_config_path=\"./configs/models/wf-cf-generator.yaml\",\n",
    "    analyzer_name=\"knn\"\n",
    ")\n",
    "tb.evaluate(x, y)"
   ]
  },
  {
   "cell_type": "code",
   "execution_count": null,
   "metadata": {},
   "outputs": [],
   "source": [
    "tb = TestBench(\n",
    "    model_path=\"./models/analysis-models/svm.pkl\",\n",
    "    vectorizer_path=\"./models/analysis-models/tfidf.pkl\",\n",
    "    cf_generator_config_path=\"./configs/models/wf-cf-generator.yaml\",\n",
    "    analyzer_name=\"svc\"\n",
    ")\n",
    "tb.evaluate(x, y)"
   ]
  },
  {
   "cell_type": "code",
   "execution_count": null,
   "metadata": {},
   "outputs": [],
   "source": [
    "tb = TestBench(\n",
    "    model_path=\"./models/analysis-models/lr.pkl\",\n",
    "    vectorizer_path=\"./models/analysis-models/tfidf.pkl\",\n",
    "    cf_generator_config_path=\"./configs/models/wf-cf-generator.yaml\",\n",
    "    analyzer_name=\"lr\"\n",
    ")\n",
    "tb.evaluate(x, y)"
   ]
  },
  {
   "cell_type": "code",
   "execution_count": null,
   "metadata": {},
   "outputs": [],
   "source": [
    "tb = TestBench(\n",
    "    model_path=\"./models/analysis-models/rf.pkl\",\n",
    "    vectorizer_path=\"./models/analysis-models/tfidf.pkl\",\n",
    "    cf_generator_config_path=\"./configs/models/wf-cf-generator.yaml\",\n",
    "    analyzer_name=\"rf\"\n",
    ")\n",
    "tb.evaluate(ds.x_test, ds.y_test)"
   ]
  }
 ],
 "metadata": {
  "kernelspec": {
   "display_name": "xai",
   "language": "python",
   "name": "python3"
  },
  "language_info": {
   "codemirror_mode": {
    "name": "ipython",
    "version": 3
   },
   "file_extension": ".py",
   "mimetype": "text/x-python",
   "name": "python",
   "nbconvert_exporter": "python",
   "pygments_lexer": "ipython3",
   "version": "3.9.17"
  },
  "orig_nbformat": 4
 },
 "nbformat": 4,
 "nbformat_minor": 2
}
