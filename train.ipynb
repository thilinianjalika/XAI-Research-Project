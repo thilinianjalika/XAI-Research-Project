{
 "cells": [
  {
   "cell_type": "code",
   "execution_count": null,
   "metadata": {},
   "outputs": [],
   "source": [
    "from sagemaker.pytorch import PyTorch\n",
    "from sagemaker.inputs import TrainingInput\n",
    "\n",
    "def train()->None:\n",
    "    estimator = PyTorch(\n",
    "        entry_point=f\"sagemaker_main.py\",\n",
    "        role=\"arn:aws:iam::065257926712:role/SagemakerRole\",\n",
    "        framework_version=\"2.0\",\n",
    "        py_version=\"py310\",\n",
    "        source_dir=\"src\",\n",
    "        output_path=f\"s3://sliit-xai/training-jobs/results\",\n",
    "        code_location=f\"s3://sliit-xai/training-jobs/code\",\n",
    "        instance_count=1,\n",
    "        instance_type=\"ml.c5.2xlarge\",\n",
    "        max_run=5 * 24 * 60 * 60\n",
    "    )\n",
    "    # Setting the input channels for tuning job\n",
    "    s3_input_train = TrainingInput(s3_data=\"s3://sliit-xai/datasets/imdb\", s3_data_type=\"S3Prefix\")\n",
    "\n",
    "    # Start job\n",
    "    estimator.fit(inputs={\"train\": s3_input_train})\n",
    "\n",
    "train()"
   ]
  },
  {
   "cell_type": "code",
   "execution_count": null,
   "metadata": {},
   "outputs": [],
   "source": []
  }
 ],
 "metadata": {
  "kernelspec": {
   "display_name": "xai-env",
   "language": "python",
   "name": "python3"
  },
  "language_info": {
   "codemirror_mode": {
    "name": "ipython",
    "version": 3
   },
   "file_extension": ".py",
   "mimetype": "text/x-python",
   "name": "python",
   "nbconvert_exporter": "python",
   "pygments_lexer": "ipython3",
   "version": "3.9.17"
  },
  "orig_nbformat": 4
 },
 "nbformat": 4,
 "nbformat_minor": 2
}
