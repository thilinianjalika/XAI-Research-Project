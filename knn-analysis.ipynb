{
    "cells": [
        {
            "cell_type": "markdown",
            "metadata": {},
            "source": [
                "# Tests"
            ]
        },
        {
            "cell_type": "markdown",
            "metadata": {},
            "source": [
                "## VDM\n",
                "$$\n",
                "d(x,y)=\\sqrt{\\sum_{a=1}^m{{vdm_a(x_a,y_a)}^2}} \\\\\n",
                "vdm_a(x_a,y_a)=\\sum_{c=1}^C{{|\\frac{N_{a,x_a,c}}{N_{a,x_a}}-\\frac{N_{a,y_a,c}}{N_{a,y_a}}|}^q}\n",
                "$$\n",
                "* $N_{a,x}$ is the number of instances in the training set T that have value $x_a$ for attribute $a$\n",
                "* $N_{a,x,c}$ is the number of instances in the training set T that have value $x_a$ for attribute $a$ and class $c$\n",
                "* $C$ is the number of classes\n",
                "* $q$ is a constant. Usually $1$ or $2$"
            ]
        },
        {
            "cell_type": "code",
            "execution_count": null,
            "metadata": {},
            "outputs": [],
            "source": [
                "import numpy as np\n",
                "\n",
                "\n",
                "def vdm(\n",
                "    x_a: float,\n",
                "    y_a: float,\n",
                "    a: int,\n",
                "    input_sample_space: np.ndarray = input_sample_space,\n",
                "    output_sample_space=output_sample_space,\n",
                "    q=1\n",
                ") -> float:\n",
                "    classes = np.unique(output_sample_space)\n",
                "    attribute_in = input_sample_space[:,a]\n",
                "    attribute_c = output_sample_space\n",
                "    vals = []\n",
                "    for c in classes:\n",
                "        n_x_c = ((attribute_c==c)&(attribute_in==x_a)).sum()\n",
                "        n_y_c = ((attribute_c==c)&(attribute_in==y_a)).sum()\n",
                "        n_x = (attribute_in==x_a).sum()\n",
                "        n_y = (attribute_in==y_a).sum()\n",
                "        diff = n_x_c/n_x-n_y_c/n_y\n",
                "        vals.append(diff)\n",
                "    val = (np.abs(vals)**q).sum()\n",
                "    \n",
                "    return val\n",
                "\n",
                "\n",
                "def dist_vdm(x: np.ndarray, y: np.ndarray) -> float:\n",
                "    assert x.size == y.size, \"The lengths of the arrays must be equal\"\n",
                "    m = x.size\n",
                "    dist = 0\n",
                "    for a in range(m):\n",
                "        dist += vdm(x[a], y[a], a) ** 2\n",
                "    dist = np.sqrt(dist)\n",
                "\n",
                "    return dist\n",
                "\n",
                "\n",
                "dist_vdm(x1, x2)"
            ]
        },
        {
            "cell_type": "markdown",
            "metadata": {},
            "source": [
                "## LIME"
            ]
        },
        {
            "cell_type": "code",
            "execution_count": null,
            "metadata": {},
            "outputs": [],
            "source": [
                "import joblib\n",
                "import numpy as np\n",
                "from src.datasets import IMDBDataset\n",
                "from lime.lime_tabular import LimeTabularExplainer\n",
                "\n",
                "ds = IMDBDataset(config_path=\"./configs/datasets/imdb.yaml\", root=\"datasets/imdb\")\n",
                "ds.set_split(\"test\")\n",
                "x1 = ds[0][0]\n",
                "x2 = ds[1][0]\n",
                "x1.shape\n",
                "knn_classifier = joblib.load(\"models/analysis-models/knn.pkl\")"
            ]
        },
        {
            "cell_type": "code",
            "execution_count": null,
            "metadata": {},
            "outputs": [],
            "source": [
                "# Choose an instance to explain (index of a test point)\n",
                "instance_index = 0\n",
                "instance = ds[instance_index][0]\n",
                "\n",
                "# Create a LimeTabularExplainer instance\n",
                "explainer = LimeTabularExplainer(ds.x_train, mode=\"classification\")\n",
                "\n",
                "# Generate an explanation for the chosen instance\n",
                "explanation = explainer.explain_instance(instance, knn_classifier.predict_proba)\n",
                "\n",
                "# Display the explanation\n",
                "# explanation.show_in_notebook()\n"
            ]
        },
        {
            "cell_type": "code",
            "execution_count": null,
            "metadata": {},
            "outputs": [],
            "source": [
                "cont = explanation.as_html()\n",
                "with open(\"test.html\", \"w\") as handler:\n",
                "    handler.write(cont)"
            ]
        },
        {
            "cell_type": "code",
            "execution_count": null,
            "metadata": {},
            "outputs": [],
            "source": [
                "exp = explanation.as_map()"
            ]
        },
        {
            "cell_type": "markdown",
            "metadata": {},
            "source": [
                "# Implementation"
            ]
        },
        {
            "cell_type": "markdown",
            "metadata": {},
            "source": [
                "## Predefined configuration"
            ]
        },
        {
            "cell_type": "code",
            "execution_count": null,
            "metadata": {},
            "outputs": [],
            "source": [
                "from src.analyzers.knn import KNNAnalyzer\n",
                "analyzer = KNNAnalyzer(\n",
                "    knn_path=\"./models/analysis-models/knn.pkl\",\n",
                "    vectorizer_path=\"./models/analysis-models/tfidf.pkl\",\n",
                "    cf_generator_config=\"./configs/models/wf-cf-generator.yaml\"\n",
                ")\n",
                "text=\"One of the other reviewers has mentioned that after watching just 1 Oz episode you'll be hooked. They are right, as this is exactly what happened with me.<br /><br />The first thing that struck me about Oz was its brutality and unflinching scenes of violence, which set in right from the word GO. Trust me, this is not a show for the faint hearted or timid. This show pulls no punches with regards to drugs, sex or violence. Its is hardcore, in the classic use of the word.<br /><br />It is called OZ as that is the nickname given to the Oswald Maximum Security State Penitentary. It focuses mainly on Emerald City, an experimental section of the prison where all the cells have glass fronts and face inwards, so privacy is not high on the agenda. Em City is home to many..Aryans, Muslims, gangstas, Latinos, Christians, Italians, Irish and more....so scuffles, death stares, dodgy dealings and shady agreements are never far away.<br /><br />I would say the main appeal of the show is due to the fact that it goes where other shows wouldn't dare. Forget pretty pictures painted for mainstream audiences, forget charm, forget romance...OZ doesn't mess around. The first episode I ever saw struck me as so nasty it was surreal, I couldn't say I was ready for it, but as I watched more, I developed a taste for Oz, and got accustomed to the high levels of graphic violence. Not just violence, but injustice (crooked guards who'll be sold out for a nickel, inmates who'll kill on order and get away with it, well mannered, middle class inmates being turned into prison bitches due to their lack of street skills or prison experience) Watching Oz, you may become comfortable with what is uncomfortable viewing....thats if you can get in touch with your darker side.\"\n",
                "analyzer(text, 2)\n",
                "print(analyzer.explanation())"
            ]
        },
        {
            "cell_type": "markdown",
            "metadata": {},
            "source": [
                "## Test bench"
            ]
        },
        {
            "cell_type": "code",
            "execution_count": null,
            "metadata": {},
            "outputs": [],
            "source": [
                "from src.test_bench import TestBench\n",
                "\n",
                "configurations = [\n",
                "    {\n",
                "        \"name\": \"adjectives\",\n",
                "        \"generator_config\": {\n",
                "            \"sample_prob_decay_factor\": 0.2,\n",
                "            \"flip_prob\": 0.5,\n",
                "            \"flipping_tags\": [\"JJ\", \"JJR\", \"JJS\"],\n",
                "        },\n",
                "    },\n",
                "    {\n",
                "        \"name\": \"nouns\",\n",
                "        \"generator_config\": {\n",
                "            \"sample_prob_decay_factor\": 0.2,\n",
                "            \"flip_prob\": 0.5,\n",
                "            \"flipping_tags\": [\"NN\", \"NNP\", \"NNPS\", \"NNS\"],\n",
                "        },\n",
                "    },\n",
                "    {\n",
                "        \"name\": \"adverbs\",\n",
                "        \"generator_config\": {\n",
                "            \"sample_prob_decay_factor\": 0.2,\n",
                "            \"flip_prob\": 0.5,\n",
                "            \"flipping_tags\": [\"RB\", \"RBR\", \"RBS\", \"RP\"],\n",
                "        },\n",
                "    },\n",
                "    {\n",
                "        \"name\": \"verbs\",\n",
                "        \"generator_config\": {\n",
                "            \"sample_prob_decay_factor\": 0.2,\n",
                "            \"flip_prob\": 0.5,\n",
                "            \"flipping_tags\": [\"VB\", \"VBD\", \"VBG\", \"VBN\", \"VBP\", \"VBZ\"],\n",
                "        },\n",
                "    },\n",
                "]\n",
                "text=\"One of the other reviewers has mentioned that after watching just 1 Oz episode you'll be hooked. They are right, as this is exactly what happened with me.<br /><br />The first thing that struck me about Oz was its brutality and unflinching scenes of violence, which set in right from the word GO. Trust me, this is not a show for the faint hearted or timid. This show pulls no punches with regards to drugs, sex or violence. Its is hardcore, in the classic use of the word.<br /><br />It is called OZ as that is the nickname given to the Oswald Maximum Security State Penitentary. It focuses mainly on Emerald City, an experimental section of the prison where all the cells have glass fronts and face inwards, so privacy is not high on the agenda. Em City is home to many..Aryans, Muslims, gangstas, Latinos, Christians, Italians, Irish and more....so scuffles, death stares, dodgy dealings and shady agreements are never far away.<br /><br />I would say the main appeal of the show is due to the fact that it goes where other shows wouldn't dare. Forget pretty pictures painted for mainstream audiences, forget charm, forget romance...OZ doesn't mess around. The first episode I ever saw struck me as so nasty it was surreal, I couldn't say I was ready for it, but as I watched more, I developed a taste for Oz, and got accustomed to the high levels of graphic violence. Not just violence, but injustice (crooked guards who'll be sold out for a nickel, inmates who'll kill on order and get away with it, well mannered, middle class inmates being turned into prison bitches due to their lack of street skills or prison experience) Watching Oz, you may become comfortable with what is uncomfortable viewing....thats if you can get in touch with your darker side.\"\n",
                "\n",
                "tb = TestBench(\n",
                "    model_path=\"./models/analysis-models/knn.pkl\",\n",
                "    vectorizer_path=\"./models/analysis-models/tfidf.pkl\",\n",
                "    analyzer_name=\"knn\",\n",
                "    cf_generator_config=\"./configs/models/wf-cf-generator.yaml\",\n",
                ")"
            ]
        },
        {
            "cell_type": "code",
            "execution_count": null,
            "metadata": {},
            "outputs": [],
            "source": [
                "reports = tb(configurations, text, 2)"
            ]
        },
        {
            "cell_type": "code",
            "execution_count": null,
            "metadata": {},
            "outputs": [],
            "source": [
                "for report in reports:\n",
                "    print(report)\n",
                "    print()"
            ]
        },
        {
            "cell_type": "code",
            "execution_count": null,
            "metadata": {},
            "outputs": [],
            "source": [
                "from src.datasets import IMDBDataset\n",
                "\n",
                "ds = IMDBDataset(config_path=\"./configs/datasets/imdb.yaml\", root=\"datasets/imdb\")\n",
                "tb.evaluate(ds.x_test, ds.y_test, save_dir=\"evaluations/knn\")"
            ]
        },
        {
            "cell_type": "code",
            "execution_count": null,
            "metadata": {},
            "outputs": [],
            "source": []
        }
    ],
    "metadata": {
        "kernelspec": {
            "display_name": "xai",
            "language": "python",
            "name": "python3"
        },
        "language_info": {
            "codemirror_mode": {
                "name": "ipython",
                "version": 3
            },
            "file_extension": ".py",
            "mimetype": "text/x-python",
            "name": "python",
            "nbconvert_exporter": "python",
            "pygments_lexer": "ipython3",
            "version": "3.9.17"
        },
        "orig_nbformat": 4
    },
    "nbformat": 4,
    "nbformat_minor": 2
}
